{
  "nbformat": 4,
  "nbformat_minor": 0,
  "metadata": {
    "colab": {
      "name": "CAPS.ipynb",
      "provenance": [],
      "collapsed_sections": [],
      "toc_visible": true,
      "authorship_tag": "ABX9TyMOSa+MkEDEB+Phg65PsZKK",
      "include_colab_link": true
    },
    "kernelspec": {
      "name": "python3",
      "display_name": "Python 3"
    }
  },
  "cells": [
    {
      "cell_type": "markdown",
      "metadata": {
        "id": "view-in-github",
        "colab_type": "text"
      },
      "source": [
        "<a href=\"https://colab.research.google.com/github/sriramece4g7/VITBML-EDA1/blob/master/CAPS.ipynb\" target=\"_parent\"><img src=\"https://colab.research.google.com/assets/colab-badge.svg\" alt=\"Open In Colab\"/></a>"
      ]
    },
    {
      "cell_type": "code",
      "metadata": {
        "id": "r1gueyAYwAsM",
        "colab_type": "code",
        "colab": {
          "base_uri": "https://localhost:8080/",
          "height": 255
        },
        "outputId": "362c0fd1-1af9-48cc-e8b0-14a3967ecf2c"
      },
      "source": [
        "import pandas as pd\n",
        "import matplotlib.pyplot as plt\n",
        "df=pd.read_csv(\"/content/hotel_bookings.csv\")\n",
        "print(df)\n"
      ],
      "execution_count": 25,
      "outputs": [
        {
          "output_type": "stream",
          "text": [
            "               hotel  is_canceled  ...  reservation_status  reservation_status_date\n",
            "0       Resort Hotel            0  ...           Check-Out               2015-07-01\n",
            "1       Resort Hotel            0  ...           Check-Out               2015-07-01\n",
            "2       Resort Hotel            0  ...           Check-Out               2015-07-02\n",
            "3       Resort Hotel            0  ...           Check-Out               2015-07-02\n",
            "4       Resort Hotel            0  ...           Check-Out               2015-07-03\n",
            "...              ...          ...  ...                 ...                      ...\n",
            "119385    City Hotel            0  ...           Check-Out               2017-09-06\n",
            "119386    City Hotel            0  ...           Check-Out               2017-09-07\n",
            "119387    City Hotel            0  ...           Check-Out               2017-09-07\n",
            "119388    City Hotel            0  ...           Check-Out               2017-09-07\n",
            "119389    City Hotel            0  ...           Check-Out               2017-09-07\n",
            "\n",
            "[119390 rows x 32 columns]\n"
          ],
          "name": "stdout"
        }
      ]
    },
    {
      "cell_type": "code",
      "metadata": {
        "id": "KsKCeMHJ0B3c",
        "colab_type": "code",
        "colab": {
          "base_uri": "https://localhost:8080/",
          "height": 85
        },
        "outputId": "d39b8330-b8e3-4386-a7f4-171b5200f45b"
      },
      "source": [
        "print(df.loc[[0]])"
      ],
      "execution_count": 6,
      "outputs": [
        {
          "output_type": "stream",
          "text": [
            "          hotel  is_canceled  ...  reservation_status  reservation_status_date\n",
            "0  Resort Hotel            0  ...           Check-Out               2015-07-01\n",
            "\n",
            "[1 rows x 32 columns]\n"
          ],
          "name": "stdout"
        }
      ]
    },
    {
      "cell_type": "code",
      "metadata": {
        "id": "FmPNyoFU6JwN",
        "colab_type": "code",
        "colab": {
          "base_uri": "https://localhost:8080/",
          "height": 153
        },
        "outputId": "fbb68d94-5ea9-4a37-a11a-e59053b32a9b"
      },
      "source": [
        "print(df.head())"
      ],
      "execution_count": 10,
      "outputs": [
        {
          "output_type": "stream",
          "text": [
            "          hotel  is_canceled  ...  reservation_status  reservation_status_date\n",
            "0  Resort Hotel            0  ...           Check-Out               2015-07-01\n",
            "1  Resort Hotel            0  ...           Check-Out               2015-07-01\n",
            "2  Resort Hotel            0  ...           Check-Out               2015-07-02\n",
            "3  Resort Hotel            0  ...           Check-Out               2015-07-02\n",
            "4  Resort Hotel            0  ...           Check-Out               2015-07-03\n",
            "\n",
            "[5 rows x 32 columns]\n"
          ],
          "name": "stdout"
        }
      ]
    },
    {
      "cell_type": "code",
      "metadata": {
        "id": "Hb_X29qS65S9",
        "colab_type": "code",
        "colab": {
          "base_uri": "https://localhost:8080/",
          "height": 68
        },
        "outputId": "35abab6a-e535-455a-d741-348cb94c1437"
      },
      "source": [
        "print(df.ndim)\n",
        "print(df.size)\n",
        "print(df.shape)"
      ],
      "execution_count": 14,
      "outputs": [
        {
          "output_type": "stream",
          "text": [
            "2\n",
            "3820480\n",
            "(119390, 32)\n"
          ],
          "name": "stdout"
        }
      ]
    },
    {
      "cell_type": "code",
      "metadata": {
        "id": "xMHlD_JB-ODv",
        "colab_type": "code",
        "colab": {
          "base_uri": "https://localhost:8080/",
          "height": 187
        },
        "outputId": "4c24ffb2-cff8-487a-a6f7-f024663c27a7"
      },
      "source": [
        "d=df.iloc[1:10,29:]\n",
        "print(d)"
      ],
      "execution_count": 33,
      "outputs": [
        {
          "output_type": "stream",
          "text": [
            "   total_of_special_requests reservation_status reservation_status_date\n",
            "1                          0          Check-Out              2015-07-01\n",
            "2                          0          Check-Out              2015-07-02\n",
            "3                          0          Check-Out              2015-07-02\n",
            "4                          1          Check-Out              2015-07-03\n",
            "5                          1          Check-Out              2015-07-03\n",
            "6                          0          Check-Out              2015-07-03\n",
            "7                          1          Check-Out              2015-07-03\n",
            "8                          1           Canceled              2015-05-06\n",
            "9                          0           Canceled              2015-04-22\n"
          ],
          "name": "stdout"
        }
      ]
    },
    {
      "cell_type": "code",
      "metadata": {
        "id": "M6EFosIrHmpb",
        "colab_type": "code",
        "colab": {
          "base_uri": "https://localhost:8080/",
          "height": 136
        },
        "outputId": "36b5d7d2-bc82-49f8-fe4a-ce40fe439495"
      },
      "source": [
        "d=df.loc[0:5,['adults','adr','agent']]\n",
        "print(d)"
      ],
      "execution_count": 48,
      "outputs": [
        {
          "output_type": "stream",
          "text": [
            "   adults   adr  agent\n",
            "0       2   0.0    NaN\n",
            "1       2   0.0    NaN\n",
            "2       1  75.0    NaN\n",
            "3       1  75.0  304.0\n",
            "4       2  98.0  240.0\n",
            "5       2  98.0  240.0\n"
          ],
          "name": "stdout"
        }
      ]
    },
    {
      "cell_type": "code",
      "metadata": {
        "id": "mQbQzkQU_sLL",
        "colab_type": "code",
        "colab": {
          "base_uri": "https://localhost:8080/",
          "height": 262
        },
        "outputId": "0bdb4dcc-fe68-4a3a-df32-baf7ac7f116d"
      },
      "source": [
        "d.plot(kind='bar')\n",
        "plt.show()"
      ],
      "execution_count": 50,
      "outputs": [
        {
          "output_type": "display_data",
          "data": {
            "image/png": "[encoded data removed]",
            "text/plain": [
              "<Figure size 432x288 with 1 Axes>"
            ]
          },
          "metadata": {
            "tags": []
          }
        }
      ]
    },
    {
      "cell_type": "code",
      "metadata": {
        "id": "7uIfwr9dBpTE",
        "colab_type": "code",
        "colab": {
          "base_uri": "https://localhost:8080/",
          "height": 265
        },
        "outputId": "ac907880-55bf-487c-eba5-6b5fe72677b5"
      },
      "source": [
        "d.plot()\n",
        "plt.show()"
      ],
      "execution_count": 51,
      "outputs": [
        {
          "output_type": "display_data",
          "data": {
            "image/png": "[encoded data removed]",
            "text/plain": [
              "<Figure size 432x288 with 1 Axes>"
            ]
          },
          "metadata": {
            "tags": []
          }
        }
      ]
    },
    {
      "cell_type": "code",
      "metadata": {
        "id": "-iPQ_cI2F9tX",
        "colab_type": "code",
        "colab": {
          "base_uri": "https://localhost:8080/",
          "height": 153
        },
        "outputId": "50a93c46-661c-451d-dcc3-c13c48c025de"
      },
      "source": [
        "d.set_index(\"adr\",inplace=True)\n",
        "print(d)"
      ],
      "execution_count": 52,
      "outputs": [
        {
          "output_type": "stream",
          "text": [
            "      adults  agent\n",
            "adr                \n",
            "0.0        2    NaN\n",
            "0.0        2    NaN\n",
            "75.0       1    NaN\n",
            "75.0       1  304.0\n",
            "98.0       2  240.0\n",
            "98.0       2  240.0\n"
          ],
          "name": "stdout"
        }
      ]
    },
    {
      "cell_type": "code",
      "metadata": {
        "id": "5cysX00CJfsh",
        "colab_type": "code",
        "colab": {
          "base_uri": "https://localhost:8080/",
          "height": 265
        },
        "outputId": "093c3b70-1cf8-4ed0-a1fc-2207b148b6b5"
      },
      "source": [
        "plt.scatter(d['adults'],d['agent'])\n",
        "plt.show()"
      ],
      "execution_count": 56,
      "outputs": [
        {
          "output_type": "display_data",
          "data": {
            "image/png": "[encoded data removed]",
            "text/plain": [
              "<Figure size 432x288 with 1 Axes>"
            ]
          },
          "metadata": {
            "tags": []
          }
        }
      ]
    }
  ]
}